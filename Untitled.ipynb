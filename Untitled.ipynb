{
 "cells": [
  {
   "cell_type": "code",
   "execution_count": 43,
   "metadata": {},
   "outputs": [],
   "source": [
    "import requests\n",
    "from bs4 import BeautifulSoup\n",
    "from selenium import webdriver"
   ]
  },
  {
   "cell_type": "code",
   "execution_count": 49,
   "metadata": {},
   "outputs": [
    {
     "name": "stdout",
     "output_type": "stream",
     "text": [
      "<html lang=\"en\">\n",
      " <head>\n",
      "  <meta charset=\"utf-8\"/>\n",
      "  <link href=\"/favicon.ico\" rel=\"icon\"/>\n",
      "  <meta content=\"width=device-width,initial-scale=1\" name=\"viewport\"/>\n",
      "  <meta content=\"#000000\" name=\"theme-color\"/>\n",
      "  <meta content=\"Web site created using create-react-app\" name=\"description\"/>\n",
      "  <link href=\"/logo192.png\" rel=\"apple-touch-icon\"/>\n",
      "  <link href=\"/manifest.json\" rel=\"manifest\"/>\n",
      "  <title>\n",
      "   React App\n",
      "  </title>\n",
      "  <link href=\"/static/css/2.2dcfa05a.chunk.css\" rel=\"stylesheet\"/>\n",
      "  <link href=\"/static/css/main.afd7172b.chunk.css\" rel=\"stylesheet\"/>\n",
      " </head>\n",
      " <body>\n",
      "  <noscript>\n",
      "   You need to enable JavaScript to run this app.\n",
      "  </noscript>\n",
      "  <div id=\"root\">\n",
      "   <div class=\"mx-auto w-75 mt-5 mb-3 list-group\">\n",
      "   </div>\n",
      "   <div class=\"d-flex\">\n",
      "    <ul class=\"mx-auto pagination\">\n",
      "     <li class=\"page-item\">\n",
      "      <a class=\"page-link\" href=\"#\" role=\"button\">\n",
      "       <span aria-hidden=\"true\">\n",
      "        «\n",
      "       </span>\n",
      "       <span class=\"sr-only\">\n",
      "        First\n",
      "       </span>\n",
      "      </a>\n",
      "     </li>\n",
      "     <li class=\"page-item disabled\">\n",
      "      <span class=\"page-link\" disabled=\"\">\n",
      "       <span aria-hidden=\"true\">\n",
      "        ‹\n",
      "       </span>\n",
      "       <span class=\"sr-only\">\n",
      "        Previous\n",
      "       </span>\n",
      "      </span>\n",
      "     </li>\n",
      "     <li class=\"page-item active\">\n",
      "      <span class=\"page-link\">\n",
      "       1\n",
      "       <span class=\"sr-only\">\n",
      "        (current)\n",
      "       </span>\n",
      "      </span>\n",
      "     </li>\n",
      "     <li class=\"page-item\">\n",
      "      <a class=\"page-link\" href=\"#\" role=\"button\">\n",
      "       2\n",
      "      </a>\n",
      "     </li>\n",
      "     <li class=\"page-item\">\n",
      "      <a class=\"page-link\" href=\"#\" role=\"button\">\n",
      "       3\n",
      "      </a>\n",
      "     </li>\n",
      "     <li class=\"page-item\">\n",
      "      <a class=\"page-link\" href=\"#\" role=\"button\">\n",
      "       4\n",
      "      </a>\n",
      "     </li>\n",
      "     <li class=\"page-item\">\n",
      "      <a class=\"page-link\" href=\"#\" role=\"button\">\n",
      "       5\n",
      "      </a>\n",
      "     </li>\n",
      "     <li class=\"page-item\">\n",
      "      <a class=\"page-link\" href=\"#\" role=\"button\">\n",
      "       6\n",
      "      </a>\n",
      "     </li>\n",
      "     <li class=\"page-item\">\n",
      "      <a class=\"page-link\" href=\"#\" role=\"button\">\n",
      "       <span aria-hidden=\"true\">\n",
      "        ›\n",
      "       </span>\n",
      "       <span class=\"sr-only\">\n",
      "        Next\n",
      "       </span>\n",
      "      </a>\n",
      "     </li>\n",
      "     <li class=\"page-item\">\n",
      "      <a class=\"page-link\" href=\"#\" role=\"button\">\n",
      "       <span aria-hidden=\"true\">\n",
      "        »\n",
      "       </span>\n",
      "       <span class=\"sr-only\">\n",
      "        Last\n",
      "       </span>\n",
      "      </a>\n",
      "     </li>\n",
      "    </ul>\n",
      "   </div>\n",
      "  </div>\n",
      "  <script>\n",
      "   !function(e){function t(t){for(var n,l,i=t[0],c=t[1],p=t[2],a=0,s=[];a<i.length;a++)l=i[a],Object.prototype.hasOwnProperty.call(o,l)&&o[l]&&s.push(o[l][0]),o[l]=0;for(n in c)Object.prototype.hasOwnProperty.call(c,n)&&(e[n]=c[n]);for(f&&f(t);s.length;)s.shift()();return u.push.apply(u,p||[]),r()}function r(){for(var e,t=0;t<u.length;t++){for(var r=u[t],n=!0,i=1;i<r.length;i++){var c=r[i];0!==o[c]&&(n=!1)}n&&(u.splice(t--,1),e=l(l.s=r[0]))}return e}var n={},o={1:0},u=[];function l(t){if(n[t])return n[t].exports;var r=n[t]={i:t,l:!1,exports:{}};return e[t].call(r.exports,r,r.exports,l),r.l=!0,r.exports}l.m=e,l.c=n,l.d=function(e,t,r){l.o(e,t)||Object.defineProperty(e,t,{enumerable:!0,get:r})},l.r=function(e){\"undefined\"!=typeof Symbol&&Symbol.toStringTag&&Object.defineProperty(e,Symbol.toStringTag,{value:\"Module\"}),Object.defineProperty(e,\"__esModule\",{value:!0})},l.t=function(e,t){if(1&t&&(e=l(e)),8&t)return e;if(4&t&&\"object\"==typeof e&&e&&e.__esModule)return e;var r=Object.create(null);if(l.r(r),Object.defineProperty(r,\"default\",{enumerable:!0,value:e}),2&t&&\"string\"!=typeof e)for(var n in e)l.d(r,n,function(t){return e[t]}.bind(null,n));return r},l.n=function(e){var t=e&&e.__esModule?function(){return e.default}:function(){return e};return l.d(t,\"a\",t),t},l.o=function(e,t){return Object.prototype.hasOwnProperty.call(e,t)},l.p=\"/\";var i=this[\"webpackJsonpproject-client\"]=this[\"webpackJsonpproject-client\"]||[],c=i.push.bind(i);i.push=t,i=i.slice();for(var p=0;p<i.length;p++)t(i[p]);var f=c;r()}([])\n",
      "  </script>\n",
      "  <script src=\"/static/js/2.32768bb1.chunk.js\">\n",
      "  </script>\n",
      "  <script src=\"/static/js/main.6e81d8ea.chunk.js\">\n",
      "  </script>\n",
      " </body>\n",
      "</html>\n"
     ]
    }
   ],
   "source": [
    "\n",
    "driver = webdriver.Chrome(executable_path='/Users/joshuabaron/Downloads/chromedriver')\n",
    "\n",
    "driver.get('http://cs6760-client.s3-website-us-east-1.amazonaws.com/')\n",
    "\n",
    "html = driver.page_source\n",
    "soup = BeautifulSoup(html)\n",
    "print(soup.prettify())"
   ]
  },
  {
   "cell_type": "code",
   "execution_count": 22,
   "metadata": {},
   "outputs": [
    {
     "data": {
      "text/plain": [
       "<Response [200]>"
      ]
     },
     "execution_count": 22,
     "metadata": {},
     "output_type": "execute_result"
    }
   ],
   "source": [
    "r"
   ]
  },
  {
   "cell_type": "code",
   "execution_count": 26,
   "metadata": {},
   "outputs": [],
   "source": [
    "soup = BeautifulSoup(r.content, 'html.parser')"
   ]
  },
  {
   "cell_type": "code",
   "execution_count": 27,
   "metadata": {},
   "outputs": [
    {
     "data": {
      "text/plain": [
       "<!DOCTYPE html>\n",
       "<html lang=\"en\"><head><meta charset=\"utf-8\"/><link href=\"/favicon.ico\" rel=\"icon\"/><meta content=\"width=device-width,initial-scale=1\" name=\"viewport\"/><meta content=\"#000000\" name=\"theme-color\"/><meta content=\"Web site created using create-react-app\" name=\"description\"/><link href=\"/logo192.png\" rel=\"apple-touch-icon\"/><link href=\"/manifest.json\" rel=\"manifest\"/><title>React App</title><link href=\"/static/css/2.2dcfa05a.chunk.css\" rel=\"stylesheet\"/><link href=\"/static/css/main.afd7172b.chunk.css\" rel=\"stylesheet\"/></head><body><noscript>You need to enable JavaScript to run this app.</noscript><div id=\"root\"></div><script>!function(e){function t(t){for(var n,l,i=t[0],c=t[1],p=t[2],a=0,s=[];a<i.length;a++)l=i[a],Object.prototype.hasOwnProperty.call(o,l)&&o[l]&&s.push(o[l][0]),o[l]=0;for(n in c)Object.prototype.hasOwnProperty.call(c,n)&&(e[n]=c[n]);for(f&&f(t);s.length;)s.shift()();return u.push.apply(u,p||[]),r()}function r(){for(var e,t=0;t<u.length;t++){for(var r=u[t],n=!0,i=1;i<r.length;i++){var c=r[i];0!==o[c]&&(n=!1)}n&&(u.splice(t--,1),e=l(l.s=r[0]))}return e}var n={},o={1:0},u=[];function l(t){if(n[t])return n[t].exports;var r=n[t]={i:t,l:!1,exports:{}};return e[t].call(r.exports,r,r.exports,l),r.l=!0,r.exports}l.m=e,l.c=n,l.d=function(e,t,r){l.o(e,t)||Object.defineProperty(e,t,{enumerable:!0,get:r})},l.r=function(e){\"undefined\"!=typeof Symbol&&Symbol.toStringTag&&Object.defineProperty(e,Symbol.toStringTag,{value:\"Module\"}),Object.defineProperty(e,\"__esModule\",{value:!0})},l.t=function(e,t){if(1&t&&(e=l(e)),8&t)return e;if(4&t&&\"object\"==typeof e&&e&&e.__esModule)return e;var r=Object.create(null);if(l.r(r),Object.defineProperty(r,\"default\",{enumerable:!0,value:e}),2&t&&\"string\"!=typeof e)for(var n in e)l.d(r,n,function(t){return e[t]}.bind(null,n));return r},l.n=function(e){var t=e&&e.__esModule?function(){return e.default}:function(){return e};return l.d(t,\"a\",t),t},l.o=function(e,t){return Object.prototype.hasOwnProperty.call(e,t)},l.p=\"/\";var i=this[\"webpackJsonpproject-client\"]=this[\"webpackJsonpproject-client\"]||[],c=i.push.bind(i);i.push=t,i=i.slice();for(var p=0;p<i.length;p++)t(i[p]);var f=c;r()}([])</script><script src=\"/static/js/2.32768bb1.chunk.js\"></script><script src=\"/static/js/main.6e81d8ea.chunk.js\"></script></body></html>"
      ]
     },
     "execution_count": 27,
     "metadata": {},
     "output_type": "execute_result"
    }
   ],
   "source": [
    "soup"
   ]
  },
  {
   "cell_type": "code",
   "execution_count": 28,
   "metadata": {},
   "outputs": [
    {
     "name": "stdout",
     "output_type": "stream",
     "text": [
      "<!DOCTYPE html>\n",
      "<html lang=\"en\">\n",
      " <head>\n",
      "  <meta charset=\"utf-8\"/>\n",
      "  <link href=\"/favicon.ico\" rel=\"icon\"/>\n",
      "  <meta content=\"width=device-width,initial-scale=1\" name=\"viewport\"/>\n",
      "  <meta content=\"#000000\" name=\"theme-color\"/>\n",
      "  <meta content=\"Web site created using create-react-app\" name=\"description\"/>\n",
      "  <link href=\"/logo192.png\" rel=\"apple-touch-icon\"/>\n",
      "  <link href=\"/manifest.json\" rel=\"manifest\"/>\n",
      "  <title>\n",
      "   React App\n",
      "  </title>\n",
      "  <link href=\"/static/css/2.2dcfa05a.chunk.css\" rel=\"stylesheet\"/>\n",
      "  <link href=\"/static/css/main.afd7172b.chunk.css\" rel=\"stylesheet\"/>\n",
      " </head>\n",
      " <body>\n",
      "  <noscript>\n",
      "   You need to enable JavaScript to run this app.\n",
      "  </noscript>\n",
      "  <div id=\"root\">\n",
      "  </div>\n",
      "  <script>\n",
      "   !function(e){function t(t){for(var n,l,i=t[0],c=t[1],p=t[2],a=0,s=[];a<i.length;a++)l=i[a],Object.prototype.hasOwnProperty.call(o,l)&&o[l]&&s.push(o[l][0]),o[l]=0;for(n in c)Object.prototype.hasOwnProperty.call(c,n)&&(e[n]=c[n]);for(f&&f(t);s.length;)s.shift()();return u.push.apply(u,p||[]),r()}function r(){for(var e,t=0;t<u.length;t++){for(var r=u[t],n=!0,i=1;i<r.length;i++){var c=r[i];0!==o[c]&&(n=!1)}n&&(u.splice(t--,1),e=l(l.s=r[0]))}return e}var n={},o={1:0},u=[];function l(t){if(n[t])return n[t].exports;var r=n[t]={i:t,l:!1,exports:{}};return e[t].call(r.exports,r,r.exports,l),r.l=!0,r.exports}l.m=e,l.c=n,l.d=function(e,t,r){l.o(e,t)||Object.defineProperty(e,t,{enumerable:!0,get:r})},l.r=function(e){\"undefined\"!=typeof Symbol&&Symbol.toStringTag&&Object.defineProperty(e,Symbol.toStringTag,{value:\"Module\"}),Object.defineProperty(e,\"__esModule\",{value:!0})},l.t=function(e,t){if(1&t&&(e=l(e)),8&t)return e;if(4&t&&\"object\"==typeof e&&e&&e.__esModule)return e;var r=Object.create(null);if(l.r(r),Object.defineProperty(r,\"default\",{enumerable:!0,value:e}),2&t&&\"string\"!=typeof e)for(var n in e)l.d(r,n,function(t){return e[t]}.bind(null,n));return r},l.n=function(e){var t=e&&e.__esModule?function(){return e.default}:function(){return e};return l.d(t,\"a\",t),t},l.o=function(e,t){return Object.prototype.hasOwnProperty.call(e,t)},l.p=\"/\";var i=this[\"webpackJsonpproject-client\"]=this[\"webpackJsonpproject-client\"]||[],c=i.push.bind(i);i.push=t,i=i.slice();for(var p=0;p<i.length;p++)t(i[p]);var f=c;r()}([])\n",
      "  </script>\n",
      "  <script src=\"/static/js/2.32768bb1.chunk.js\">\n",
      "  </script>\n",
      "  <script src=\"/static/js/main.6e81d8ea.chunk.js\">\n",
      "  </script>\n",
      " </body>\n",
      "</html>\n"
     ]
    }
   ],
   "source": [
    "print(soup.prettify())"
   ]
  },
  {
   "cell_type": "code",
   "execution_count": null,
   "metadata": {},
   "outputs": [],
   "source": []
  }
 ],
 "metadata": {
  "kernelspec": {
   "display_name": "Python 3",
   "language": "python",
   "name": "python3"
  },
  "language_info": {
   "codemirror_mode": {
    "name": "ipython",
    "version": 3
   },
   "file_extension": ".py",
   "mimetype": "text/x-python",
   "name": "python",
   "nbconvert_exporter": "python",
   "pygments_lexer": "ipython3",
   "version": "3.7.6"
  }
 },
 "nbformat": 4,
 "nbformat_minor": 4
}
